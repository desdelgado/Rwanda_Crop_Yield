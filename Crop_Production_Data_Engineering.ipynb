{
 "cells": [
  {
   "cell_type": "markdown",
   "metadata": {},
   "source": [
    "# Predicting Crop Yield in Rwanda- Data Engineering\n",
    "\n",
    "## Goal\n",
    "\n",
    "In this project, I will be looking at using agricultureal data from the [National Institue of Statistics of Rwanda](https://microdata.statistics.gov.rw/index.php/catalog/88/get_microdata) data repository to predict crop yield in different areas.  I believe one of the most powerful and useful applications in data science is within agriculutre.  Not only does this allow for more sustainable farming which combats climate change but also address key challenges such as food scacity.  Particulary in developing countries sustainable food growth can combat poverty and lead to stablitiy within the country.\n",
    "\n",
    "\n",
    "\n",
    "## Introduction\n",
    "\n",
    "One quote that has always stuck with me is that if your data is good enough, all one needs is a linear regression.  In this section, we will first import the data, clean the data, and engineering some new features.  Looking at the \"data description\" tab in the [repository](https://microdata.statistics.gov.rw/index.php/catalog/88/data_dictionary) "
   ]
  }
 ],
 "metadata": {
  "kernelspec": {
   "display_name": "Python 3",
   "language": "python",
   "name": "python3"
  },
  "language_info": {
   "codemirror_mode": {
    "name": "ipython",
    "version": 3
   },
   "file_extension": ".py",
   "mimetype": "text/x-python",
   "name": "python",
   "nbconvert_exporter": "python",
   "pygments_lexer": "ipython3",
   "version": "3.7.6"
  }
 },
 "nbformat": 4,
 "nbformat_minor": 4
}
